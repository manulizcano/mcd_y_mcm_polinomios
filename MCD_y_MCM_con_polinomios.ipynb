{
  "nbformat": 4,
  "nbformat_minor": 0,
  "metadata": {
    "colab": {
      "provenance": []
    },
    "kernelspec": {
      "name": "python3",
      "display_name": "Python 3"
    },
    "language_info": {
      "name": "python"
    }
  },
  "cells": [
    {
      "cell_type": "code",
      "execution_count": null,
      "metadata": {
        "id": "6LfMw3Yyvwem"
      },
      "outputs": [],
      "source": [
        "from sympy import *"
      ]
    },
    {
      "cell_type": "code",
      "source": [
        "x = symbols('x')"
      ],
      "metadata": {
        "id": "Dl7_BzN6wBMk"
      },
      "execution_count": null,
      "outputs": []
    },
    {
      "cell_type": "markdown",
      "source": [
        "<h1><center>Esta funcion regresa a(x) y b(x) tales que a(x)p1(x) + b(x)p2(x) = mcd(p1(x),p2(x)). Ojo, el grado de p1(x) debe ser mayor o igual que el grado de p2(x).</center></h1>"
      ],
      "metadata": {
        "id": "k2HtruTM5-8t"
      }
    },
    {
      "cell_type": "code",
      "source": [
        "def combinacion_lineal(p1,p2): # el grado de p1 debe ser mayor o igual que el grado de p2\n",
        "  solucion=[1,0]\n",
        "  r=1\n",
        "  lista_cocientes=[]\n",
        "  while r != 0 :\n",
        "    q, r = div(p1, p2, domain ='QQ')\n",
        "    lista_cocientes.append(q)\n",
        "    p1 = p2\n",
        "    p2 = r\n",
        "    if r!=0:\n",
        "      solucion[1] = -q\n",
        "\n",
        "  n=len(lista_cocientes)\n",
        "  for i in range(len(lista_cocientes)):\n",
        "    q = lista_cocientes[n-i-1]\n",
        "    coef1 = solucion[1]\n",
        "    coef2 = solucion[0]-solucion[1]*q\n",
        "    solucion[0] = coef1\n",
        "    solucion[1] = coef2\n",
        "\n",
        "  return  expand(solucion[0]), expand(solucion[1])"
      ],
      "metadata": {
        "id": "24D59LcwwGzh"
      },
      "execution_count": null,
      "outputs": []
    },
    {
      "cell_type": "markdown",
      "source": [
        "<h1><center>Esta función devuelve el máximo común divisor de p1(x) y p2(x).</center></h1>"
      ],
      "metadata": {
        "id": "EwdlTwsP6vl5"
      }
    },
    {
      "cell_type": "code",
      "source": [
        "def mcd(p1,p2):\n",
        "  a, b = combinacion_lineal(pol_1,pol_2)\n",
        "  resultado = expand(a*pol_1+b*pol_2)\n",
        "  return factor(resultado)\n",
        ""
      ],
      "metadata": {
        "id": "FLvgGnnV0vJU"
      },
      "execution_count": null,
      "outputs": []
    },
    {
      "cell_type": "markdown",
      "source": [
        "\n",
        "\n",
        "<h1><center>Esta función devuelve el mínimo común múltiplo de p1(x) y p2(x).</center></h1>"
      ],
      "metadata": {
        "id": "Dx6_Tj8t6hWu"
      }
    },
    {
      "cell_type": "code",
      "source": [
        "def mcm(p1,p2):\n",
        "  divisor = mcd(p1,p2)\n",
        "  q, r = div(p1*p2, divisor, domain ='QQ')\n",
        "  q = expand(q)\n",
        "  return factor(q)"
      ],
      "metadata": {
        "id": "RsrZ_04T3v0L"
      },
      "execution_count": null,
      "outputs": []
    },
    {
      "cell_type": "code",
      "source": [],
      "metadata": {
        "id": "EaErspdoxNL7"
      },
      "execution_count": null,
      "outputs": []
    },
    {
      "cell_type": "code",
      "source": [],
      "metadata": {
        "id": "9Z2qZbQXxNY2"
      },
      "execution_count": null,
      "outputs": []
    },
    {
      "cell_type": "code",
      "source": [],
      "metadata": {
        "id": "oQqzJEa_xNcQ"
      },
      "execution_count": null,
      "outputs": []
    },
    {
      "cell_type": "code",
      "source": [],
      "metadata": {
        "id": "5-PYBgrRxNfK"
      },
      "execution_count": null,
      "outputs": []
    },
    {
      "cell_type": "code",
      "source": [],
      "metadata": {
        "id": "ako_E5I1xNiO"
      },
      "execution_count": null,
      "outputs": []
    },
    {
      "cell_type": "code",
      "source": [],
      "metadata": {
        "id": "BqA2lY0MxNla"
      },
      "execution_count": null,
      "outputs": []
    },
    {
      "cell_type": "code",
      "source": [],
      "metadata": {
        "id": "6pii5dbQxNoc"
      },
      "execution_count": null,
      "outputs": []
    },
    {
      "cell_type": "code",
      "source": [],
      "metadata": {
        "id": "N5xGbptWxNrn"
      },
      "execution_count": null,
      "outputs": []
    },
    {
      "cell_type": "code",
      "source": [],
      "metadata": {
        "id": "ULWGctX3xNvO"
      },
      "execution_count": null,
      "outputs": []
    },
    {
      "cell_type": "code",
      "source": [],
      "metadata": {
        "id": "4hAIg5O9xNyp"
      },
      "execution_count": null,
      "outputs": []
    },
    {
      "cell_type": "code",
      "source": [
        "pol_1 =  x**4+3*x**3+4*x**2+x-3\n",
        "pol_1"
      ],
      "metadata": {
        "colab": {
          "base_uri": "https://localhost:8080/",
          "height": 39
        },
        "id": "b_oh1JGkz1VT",
        "outputId": "b8c5024e-66e6-4ba0-8194-c2be41b5138a"
      },
      "execution_count": null,
      "outputs": [
        {
          "output_type": "execute_result",
          "data": {
            "text/plain": [
              "x**4 + 3*x**3 + 4*x**2 + x - 3"
            ],
            "text/latex": "$\\displaystyle x^{4} + 3 x^{3} + 4 x^{2} + x - 3$"
          },
          "metadata": {},
          "execution_count": 6
        }
      ]
    },
    {
      "cell_type": "code",
      "source": [
        "pol_2 =  x**3+6*x**2+11*x+12\n",
        "pol_2"
      ],
      "metadata": {
        "colab": {
          "base_uri": "https://localhost:8080/",
          "height": 39
        },
        "id": "pNOkX17UzvLf",
        "outputId": "de8bac07-dd4c-42b7-d5db-7abdbaabab78"
      },
      "execution_count": null,
      "outputs": [
        {
          "output_type": "execute_result",
          "data": {
            "text/plain": [
              "x**3 + 6*x**2 + 11*x + 12"
            ],
            "text/latex": "$\\displaystyle x^{3} + 6 x^{2} + 11 x + 12$"
          },
          "metadata": {},
          "execution_count": 7
        }
      ]
    },
    {
      "cell_type": "code",
      "source": [
        "mcd(pol_1,pol_2)"
      ],
      "metadata": {
        "colab": {
          "base_uri": "https://localhost:8080/",
          "height": 39
        },
        "id": "k0Jsusfd3oLe",
        "outputId": "a1d524b6-cf2c-4b10-d1a3-6a4ecdab837d"
      },
      "execution_count": null,
      "outputs": [
        {
          "output_type": "execute_result",
          "data": {
            "text/plain": [
              "11*(x**2 + 2*x + 3)"
            ],
            "text/latex": "$\\displaystyle 11 \\left(x^{2} + 2 x + 3\\right)$"
          },
          "metadata": {},
          "execution_count": 8
        }
      ]
    },
    {
      "cell_type": "code",
      "source": [
        "mcm(pol_1,pol_2)"
      ],
      "metadata": {
        "colab": {
          "base_uri": "https://localhost:8080/",
          "height": 56
        },
        "id": "46T16Rsp4LQO",
        "outputId": "12d8bd6c-383c-4c9a-984b-89c54d0aa434"
      },
      "execution_count": null,
      "outputs": [
        {
          "output_type": "execute_result",
          "data": {
            "text/plain": [
              "(x**2 - 2*x + 3)*(x**3 + 5*x**2 - 12*x + 9)/171"
            ],
            "text/latex": "$\\displaystyle \\frac{\\left(x^{2} - 2 x + 3\\right) \\left(x^{3} + 5 x^{2} - 12 x + 9\\right)}{171}$"
          },
          "metadata": {},
          "execution_count": 10
        }
      ]
    },
    {
      "cell_type": "code",
      "source": [
        "a, b = combinacion_lineal(pol_1,pol_2)"
      ],
      "metadata": {
        "id": "ggWVfFeYz3FE"
      },
      "execution_count": null,
      "outputs": []
    },
    {
      "cell_type": "code",
      "source": [
        "a"
      ],
      "metadata": {
        "colab": {
          "base_uri": "https://localhost:8080/",
          "height": 54
        },
        "id": "Re0R4dpr0s-d",
        "outputId": "73b8c7ff-3d16-4399-ae84-c53bb72db847"
      },
      "execution_count": null,
      "outputs": [
        {
          "output_type": "execute_result",
          "data": {
            "text/plain": [
              "x**3/171 - 16*x**2/171 + 202*x/171 - 812/57"
            ],
            "text/latex": "$\\displaystyle \\frac{x^{3}}{171} - \\frac{16 x^{2}}{171} + \\frac{202 x}{171} - \\frac{812}{57}$"
          },
          "metadata": {},
          "execution_count": 12
        }
      ]
    },
    {
      "cell_type": "code",
      "source": [
        "b"
      ],
      "metadata": {
        "colab": {
          "base_uri": "https://localhost:8080/",
          "height": 54
        },
        "id": "gHFToGqd0uIS",
        "outputId": "57622666-b95d-4b0f-af80-c69fd8d758b3"
      },
      "execution_count": null,
      "outputs": [
        {
          "output_type": "execute_result",
          "data": {
            "text/plain": [
              "-x**4/171 + x**3/19 - 89*x**2/171 + 340*x/57 + 1895/19"
            ],
            "text/latex": "$\\displaystyle - \\frac{x^{4}}{171} + \\frac{x^{3}}{19} - \\frac{89 x^{2}}{171} + \\frac{340 x}{57} + \\frac{1895}{19}$"
          },
          "metadata": {},
          "execution_count": 13
        }
      ]
    }
  ]
}